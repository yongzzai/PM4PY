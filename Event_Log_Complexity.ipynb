{
 "cells": [
  {
   "cell_type": "code",
   "execution_count": 5,
   "metadata": {},
   "outputs": [],
   "source": [
    "import pm4py\n",
    "import graphviz\n",
    "import pandas as pd\n",
    "import numpy as np\n",
    "from itertools import *\n",
    "from tqdm import tqdm"
   ]
  },
  {
   "attachments": {},
   "cell_type": "markdown",
   "metadata": {},
   "source": [
    "#### 데이터 준비"
   ]
  },
  {
   "cell_type": "code",
   "execution_count": 6,
   "metadata": {},
   "outputs": [
    {
     "name": "stderr",
     "output_type": "stream",
     "text": [
      "c:\\Users\\User\\anaconda3\\envs\\basic\\lib\\site-packages\\tqdm\\auto.py:21: TqdmWarning: IProgress not found. Please update jupyter and ipywidgets. See https://ipywidgets.readthedocs.io/en/stable/user_install.html\n",
      "  from .autonotebook import tqdm as notebook_tqdm\n",
      "parsing log, completed traces :: 100%|██████████| 225/225 [00:00<00:00, 767.28it/s]\n"
     ]
    }
   ],
   "source": [
    "xes_prod = pm4py.read_xes(r'C:\\PROJECT\\0_중견\\Dataset\\Production.xes')"
   ]
  },
  {
   "cell_type": "code",
   "execution_count": 7,
   "metadata": {},
   "outputs": [],
   "source": [
    "csv_prod = pd.DataFrame(xes_prod)"
   ]
  },
  {
   "attachments": {},
   "cell_type": "markdown",
   "metadata": {},
   "source": [
    "### 최종 데이터"
   ]
  },
  {
   "cell_type": "code",
   "execution_count": 8,
   "metadata": {},
   "outputs": [
    {
     "name": "stderr",
     "output_type": "stream",
     "text": [
      "C:\\Users\\User\\AppData\\Local\\Temp\\ipykernel_17320\\213123305.py:1: DeprecatedWarning: format_dataframe is deprecated as of 2.3.0 and will be removed in 3.0.0. the format_dataframe function does not need application anymore.\n",
      "  Log_prod = pm4py.format_dataframe(csv_prod,case_id='case:concept:name',activity_key='concept:name',timestamp_key='Start Timestamp')\n"
     ]
    }
   ],
   "source": [
    "Log_prod = pm4py.format_dataframe(csv_prod,case_id='case:concept:name',activity_key='concept:name',timestamp_key='Start Timestamp')"
   ]
  },
  {
   "attachments": {},
   "cell_type": "markdown",
   "metadata": {},
   "source": [
    "### Event Log 복잡성 평가 지표"
   ]
  },
  {
   "attachments": {},
   "cell_type": "markdown",
   "metadata": {},
   "source": [
    "###### 1. #_Cases --> Case의 수\n",
    "###### 2. Avg_Trace_Len_Cases -->  각 Case들의 평균 Trace길이\n",
    "###### 3. #_distinct_Activ --> Activity의 종류 갯수\n",
    "###### 4. Avg#_dist_act_per_Case --> 중복 제외 각 Case의 서로다른 Activity 종류 갯수\n",
    "###### 5. Avg_set_based_non_overlap_of_Traces --> 각 Trace의 쌍을 Overlap 기반 비교한 값 = Trace가 모두 같은 Activity로 이루어져있으면 0\n",
    "###### 6. #_distinct_Case -->  서로 다른 Trace의 갯수\n",
    "###### 7. #_Events -->  Event Log에 있는 총 Event의 갯수 = 전체 Case의 수 X Case 평균 Trace길이\n",
    "###### 8. #_direct_successions --> 서로 다른 Direct Succession관계의 갯수\n",
    "###### 9. #_Start_Activ --> Start Activity의 갯수\n",
    "###### 10. #_End_Activ -->  End Activity의 갯수\n"
   ]
  },
  {
   "attachments": {},
   "cell_type": "markdown",
   "metadata": {},
   "source": [
    "# 복잡성 지표 함수"
   ]
  },
  {
   "attachments": {},
   "cell_type": "markdown",
   "metadata": {},
   "source": [
    "#### pm4py, pandas, itertools, tqdm 필요"
   ]
  },
  {
   "cell_type": "code",
   "execution_count": 17,
   "metadata": {},
   "outputs": [],
   "source": [
    "def event_log_check(LogData,Key_Case,Key_Activity,Key_Timestamp):\n",
    "    # Event Log 복잡성 평가 Metrics\n",
    "    EL_Metrics=pd.DataFrame(index=range(0,10),columns=['Indicator','Value'])\n",
    "    EL_Metrics['Indicator'] = ['#_ Cases','Avg_Trace_Len_Cases',\n",
    "                               '#_distinct_Activ',\n",
    "                               'Avg#_dist_act_per_Case',\n",
    "                               'Avg_set_based_non_overlap_of_Traces',\n",
    "                               '#_distinct_Case',\n",
    "                               '#_Events','#_direct_successions',\n",
    "                               '#_Start_Activ',\n",
    "                               '#_End_Activ']\n",
    "\n",
    "\n",
    "    #Trace와 해당 Trace를 가지는 케이스의 수 (key: Trace, Value = Case수)\n",
    "    dict_trace = pm4py.get_variants(LogData,\n",
    "                                    activity_key= Key_Activity,\n",
    "                                    timestamp_key= Key_Timestamp,\n",
    "                                    case_id_key= Key_Case)\n",
    "    \n",
    "    # Case 갯수\n",
    "    EL_Metrics.iloc[0,1]=LogData[Key_Case].nunique()\n",
    "\n",
    "    # 각 Case 평균 Trace 길이\n",
    "    df_trace = pd.DataFrame()\n",
    "    df_trace['trace'] = dict_trace.keys()\n",
    "    df_trace['CaseNum'] = dict_trace.values()\n",
    "    sum_trace=0\n",
    "    for i in tqdm(range(len(df_trace)),desc='Avg Trace length of each Case'):\n",
    "        sum_trace = sum_trace + len(df_trace.iloc[i,0])*df_trace.iloc[i,1]\n",
    "    EL_Metrics.iloc[1,1] = sum_trace/sum(df_trace['CaseNum'])\n",
    "\n",
    "    # 액티비티의 종류의 수\n",
    "    # #_distinct_Activity\n",
    "    EL_Metrics.iloc[2,1] = LogData[Key_Activity].nunique()\n",
    "\n",
    "    # Avg num of distinct activities per case\n",
    "    # 각 케이스 중복 제외 서로 다른 액티비티 갯수 평균\n",
    "    distinct_sum = 0\n",
    "    for i in tqdm(df_trace['trace'],desc='Avg Num of Distinct Activities per case'):\n",
    "        distinct_sum = distinct_sum + len(set(i))\n",
    "    EL_Metrics.iloc[3,1] = distinct_sum/sum(df_trace['CaseNum'])\n",
    "\n",
    "    # Avg set based non overlap of Traces\n",
    "    sbnot_sum = 0\n",
    "    for i in tqdm(combinations(df_trace['trace'],2),desc='Avg Set Based non Overlap of Traces'):\n",
    "        casenum1=df_trace[df_trace['trace']==i[0]]\n",
    "        casenum2=df_trace[df_trace['trace']==i[1]]  # 트레이스의 케이스 수\n",
    "        tr_casenum = casenum1.iloc[0,1] * casenum2.iloc[0,1]\n",
    "        tr1 = list(i[0])\n",
    "        tr2 = list(i[1])\n",
    "        sumlen = len(tr1+tr2) #합집합 길이\n",
    "        same_trace = list(set(tr1)&set(tr2))\n",
    "        interlen = len(same_trace) #교집합 길이\n",
    "        sbnot_sum = sbnot_sum + (tr_casenum * (interlen/sumlen))\n",
    "        sbnot_Log = 1 - sbnot_sum/(sum(df_trace['CaseNum']))**2\n",
    "        sbnot_sum\n",
    "    EL_Metrics.iloc[4,1] = sbnot_Log\n",
    "\n",
    "    # num of distinct_Case\n",
    "    EL_Metrics.iloc[5,1] = len(df_trace['CaseNum'])\n",
    "\n",
    "    # num of Events\n",
    "    EL_Metrics.iloc[6,1] = EL_Metrics.iloc[0,1]*EL_Metrics.iloc[1,1]\n",
    "\n",
    "    # num of Direct Successions\n",
    "    dict_dfg = pm4py.discover_performance_dfg(LogData,\n",
    "                                              case_id_key=Key_Case,\n",
    "                                              activity_key=Key_Activity,\n",
    "                                              timestamp_key=Key_Timestamp)\n",
    "    df_dfg = pd.DataFrame()\n",
    "    df_dfg['dfg']=dict_dfg[0].keys()\n",
    "    EL_Metrics.iloc[7,1] = df_dfg['dfg'].nunique()\n",
    "\n",
    "    # num of Start Activities\n",
    "    EL_Metrics.iloc[8,1] = len(pm4py.get_start_activities(LogData,\n",
    "                                                      activity_key= Key_Activity,\n",
    "                                                      timestamp_key= Key_Timestamp,\n",
    "                                                      case_id_key= Key_Case))\n",
    "\n",
    "    # num of End Activities\n",
    "    EL_Metrics.iloc[9,1] = len(pm4py.get_end_activities(LogData,\n",
    "                                                      activity_key= Key_Activity,\n",
    "                                                      timestamp_key= Key_Timestamp,\n",
    "                                                      case_id_key= Key_Case))\n",
    "\n",
    "    print('Event Log Complexity Metrics :\\n\\n',EL_Metrics)"
   ]
  },
  {
   "cell_type": "code",
   "execution_count": 18,
   "metadata": {},
   "outputs": [
    {
     "name": "stderr",
     "output_type": "stream",
     "text": [
      "Avg Trace length of each Case: 100%|██████████| 221/221 [00:00<00:00, 22162.37it/s]\n",
      "Avg Num of Distinct Activities per case: 100%|██████████| 221/221 [00:00<?, ?it/s]\n",
      "Avg Set Based non Overlap of Traces: 24310it [00:13, 1780.12it/s]"
     ]
    },
    {
     "name": "stdout",
     "output_type": "stream",
     "text": [
      "Event Log Complexity Metrics :\n",
      "\n",
      "                              Indicator      Value\n",
      "0                             #_ Cases        225\n",
      "1                  Avg_Trace_Len_Cases  20.191111\n",
      "2                     #_distinct_Activ         55\n",
      "3               Avg#_dist_act_per_Case       6.04\n",
      "4  Avg_set_based_non_overlap_of_Traces   0.956476\n",
      "5                      #_distinct_Case        221\n",
      "6                             #_Events     4543.0\n",
      "7                 #_direct_successions        381\n",
      "8                        #_Start_Activ         31\n",
      "9                          #_End_Activ         21\n"
     ]
    },
    {
     "name": "stderr",
     "output_type": "stream",
     "text": [
      "\n"
     ]
    }
   ],
   "source": [
    "log_check = event_log_check(Log_prod,'case:concept:name','concept:name','Start Timestamp')\n",
    "log_check"
   ]
  }
 ],
 "metadata": {
  "kernelspec": {
   "display_name": "basic",
   "language": "python",
   "name": "python3"
  },
  "language_info": {
   "codemirror_mode": {
    "name": "ipython",
    "version": 3
   },
   "file_extension": ".py",
   "mimetype": "text/x-python",
   "name": "python",
   "nbconvert_exporter": "python",
   "pygments_lexer": "ipython3",
   "version": "3.9.16"
  },
  "orig_nbformat": 4,
  "vscode": {
   "interpreter": {
    "hash": "bb7d68173b8c34e9f4dc9cc6387121e2a76eb76570ef77dc65931781133571fd"
   }
  }
 },
 "nbformat": 4,
 "nbformat_minor": 2
}
